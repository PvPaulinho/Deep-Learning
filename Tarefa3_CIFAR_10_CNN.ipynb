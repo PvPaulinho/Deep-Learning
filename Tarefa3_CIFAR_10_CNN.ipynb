{
  "nbformat": 4,
  "nbformat_minor": 0,
  "metadata": {
    "colab": {
      "name": "Tarefa3_CIFAR-10_CNN.ipynb",
      "provenance": []
    },
    "kernelspec": {
      "name": "python3",
      "display_name": "Python 3"
    },
    "language_info": {
      "name": "python"
    },
    "accelerator": "GPU"
  },
  "cells": [
    {
      "cell_type": "markdown",
      "metadata": {
        "id": "zuyeukW3cNbd"
      },
      "source": [
        "# Tarefa 3 \n",
        "\n",
        "Para este exercício, vamos usar o dataset CIFAR-10. O CIFAR-10 consiste de 60000 imagens coloridas (32 x 32 pixels) de 10 objetos distintos. O conjunto de treinamento tem 50000 imagens e o conjunto de teste tem 10000.   \n",
        "\n",
        "As classes são:\n",
        "\n",
        "\n",
        "* Avião\n",
        "* Automóvel \n",
        "* Pássaro\n",
        "* Gato\n",
        "* Cervo\n",
        "* Cão \n",
        "* Sapo\n",
        "* Cavalo\n",
        "* Navio\n",
        "* Caminhão\n",
        "\n",
        "\n",
        "Mostre que é possível atingir 80% de acurácia no treinamento e 70% de acurácia na validação usando camadas convolucionais. \n",
        "\n",
        "Use até 10 épocas de treinamento (máximo).\n",
        "\n",
        "Sugestão: Inicie com uma camada de Convolução/MaxPooling e acrescente camadas adicionais para verificar se o desempenho melhora. \n"
      ]
    },
    {
      "cell_type": "code",
      "metadata": {
        "id": "i80BCAfWcGzF",
        "colab": {
          "base_uri": "https://localhost:8080/"
        },
        "outputId": "55a7e780-f897-41a7-87d9-34701ee9484b"
      },
      "source": [
        "import tensorflow as tf\n",
        "print(tf.__version__)\n",
        "\n",
        "\n",
        "class myCallback(tf.keras.callbacks.Callback):\n",
        "  def on_epoch_end(self, epoch, logs={}):\n",
        "    if(logs.get('accuracy')>0.9):\n",
        "      print(\"\\nAtingiu acc > 0.9, cancelando treinamento\")\n",
        "      self.model.stop_training = True\n",
        "\n",
        "callbacks = myCallback()\n",
        "\n",
        "mnist = tf.keras.datasets.cifar10\n",
        "(training_images, training_labels), (test_images, test_labels) = mnist.load_data()\n",
        "training_images=training_images.reshape(50000, 32, 32, 3)\n",
        "training_images=training_images / 255.0\n",
        "test_images = test_images.reshape(10000, 32, 32, 3)\n",
        "test_images=test_images/255.0\n",
        "\n",
        "\n",
        "model = tf.keras.models.Sequential([\n",
        "  tf.keras.layers.Conv2D(32, (3,3), activation='relu', input_shape=(32, 32, 3)),\n",
        "  tf.keras.layers.MaxPooling2D(2, 2),\n",
        "  tf.keras.layers.Conv2D(64, (3,3), activation='relu'),\n",
        "  tf.keras.layers.MaxPooling2D(2,2),  \n",
        "  tf.keras.layers.Flatten(),\n",
        "  tf.keras.layers.Dense(512, activation='relu'),\n",
        "  tf.keras.layers.Dense(10, activation='softmax')\n",
        "])\n",
        "\n",
        "\n",
        "\n",
        "model.compile(optimizer='adam', loss='sparse_categorical_crossentropy', metrics=['accuracy'])\n",
        "model.fit(training_images, training_labels, epochs=10, callbacks=[callbacks])\n",
        "test_loss, test_acc = model.evaluate(test_images, test_labels)\n",
        "print(test_acc)"
      ],
      "execution_count": 11,
      "outputs": [
        {
          "output_type": "stream",
          "name": "stdout",
          "text": [
            "2.6.0\n",
            "Epoch 1/10\n",
            "1563/1563 [==============================] - 11s 7ms/step - loss: 1.3876 - accuracy: 0.5009\n",
            "Epoch 2/10\n",
            "1563/1563 [==============================] - 11s 7ms/step - loss: 1.0017 - accuracy: 0.6475\n",
            "Epoch 3/10\n",
            "1563/1563 [==============================] - 11s 7ms/step - loss: 0.8196 - accuracy: 0.7123\n",
            "Epoch 4/10\n",
            "1563/1563 [==============================] - 11s 7ms/step - loss: 0.6758 - accuracy: 0.7644\n",
            "Epoch 5/10\n",
            "1563/1563 [==============================] - 11s 7ms/step - loss: 0.5471 - accuracy: 0.8076\n",
            "Epoch 6/10\n",
            "1563/1563 [==============================] - 11s 7ms/step - loss: 0.4255 - accuracy: 0.8522\n",
            "Epoch 7/10\n",
            "1563/1563 [==============================] - 11s 7ms/step - loss: 0.3144 - accuracy: 0.8916\n",
            "Epoch 8/10\n",
            "1563/1563 [==============================] - 11s 7ms/step - loss: 0.2259 - accuracy: 0.9230\n",
            "\n",
            "Atingiu acc > 0.9, cancelando treinamento\n",
            "313/313 [==============================] - 1s 4ms/step - loss: 1.2099 - accuracy: 0.7078\n",
            "0.7077999711036682\n"
          ]
        }
      ]
    }
  ]
}